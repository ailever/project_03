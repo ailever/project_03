{
 "cells": [
  {
   "cell_type": "code",
   "execution_count": 53,
   "outputs": [
    {
     "data": {
      "text/plain": "        시간대 2019-01-01 2019-01-02 2019-01-03 2019-01-04 2019-01-05 2019-01-06  \\\n1     02:00          0          0          0          0          0          0   \n2     02:01          0          0          0          0          0          0   \n3     02:02          0          0          0          0          0          0   \n4     02:03          0          0      0.014          0          0          0   \n5     02:04          0          0          0          0          0          0   \n...     ...        ...        ...        ...        ...        ...        ...   \n1436  01:55          0          0          0          0          0          0   \n1437  01:56          0          0          0          0      0.027          0   \n1438  01:57          0          0          0          0          0          0   \n1439  01:58          0          0          0          0          0          0   \n1440  01:59          0          0          0          0          0          0   \n\n     2019-01-07 2019-01-08 2019-01-09  ... 2019-12-22 2019-12-23 2019-12-24  \\\n1             0          0          0  ...          0          0          0   \n2             0          0          0  ...          0          0          0   \n3             0          0          0  ...          0          0          0   \n4             0          0          0  ...          0          0          0   \n5             0          0          0  ...          0          0          0   \n...         ...        ...        ...  ...        ...        ...        ...   \n1436          0          0      0.004  ...          0      0.013          0   \n1437          0          0          0  ...          0      0.013          0   \n1438          0          0      0.004  ...          0      0.013          0   \n1439          0          0      0.004  ...          0      0.013      0.017   \n1440          0          0      0.004  ...          0      0.013          0   \n\n     2019-12-25 2019-12-26 2019-12-27 2019-12-28 2019-12-29 2019-12-30  \\\n1             0          0          0          0          0          0   \n2             0          0          0          0          0          0   \n3             0          0          0          0          0          0   \n4         0.017          0          0          0          0          0   \n5         0.017          0          0          0          0          0   \n...         ...        ...        ...        ...        ...        ...   \n1436          0          0      0.015          0          0          0   \n1437          0          0      0.015          0          0          0   \n1438          0          0      0.015          0          0          0   \n1439          0          0      0.015          0          0      0.019   \n1440          0          0      0.015          0          0          0   \n\n     2019-12-31  \n1             0  \n2         0.012  \n3             0  \n4             0  \n5             0  \n...         ...  \n1436          0  \n1437          0  \n1438          0  \n1439          0  \n1440          0  \n\n[1440 rows x 366 columns]",
      "text/html": "<div>\n<style scoped>\n    .dataframe tbody tr th:only-of-type {\n        vertical-align: middle;\n    }\n\n    .dataframe tbody tr th {\n        vertical-align: top;\n    }\n\n    .dataframe thead th {\n        text-align: right;\n    }\n</style>\n<table border=\"1\" class=\"dataframe\">\n  <thead>\n    <tr style=\"text-align: right;\">\n      <th></th>\n      <th>시간대</th>\n      <th>2019-01-01</th>\n      <th>2019-01-02</th>\n      <th>2019-01-03</th>\n      <th>2019-01-04</th>\n      <th>2019-01-05</th>\n      <th>2019-01-06</th>\n      <th>2019-01-07</th>\n      <th>2019-01-08</th>\n      <th>2019-01-09</th>\n      <th>...</th>\n      <th>2019-12-22</th>\n      <th>2019-12-23</th>\n      <th>2019-12-24</th>\n      <th>2019-12-25</th>\n      <th>2019-12-26</th>\n      <th>2019-12-27</th>\n      <th>2019-12-28</th>\n      <th>2019-12-29</th>\n      <th>2019-12-30</th>\n      <th>2019-12-31</th>\n    </tr>\n  </thead>\n  <tbody>\n    <tr>\n      <th>1</th>\n      <td>02:00</td>\n      <td>0</td>\n      <td>0</td>\n      <td>0</td>\n      <td>0</td>\n      <td>0</td>\n      <td>0</td>\n      <td>0</td>\n      <td>0</td>\n      <td>0</td>\n      <td>...</td>\n      <td>0</td>\n      <td>0</td>\n      <td>0</td>\n      <td>0</td>\n      <td>0</td>\n      <td>0</td>\n      <td>0</td>\n      <td>0</td>\n      <td>0</td>\n      <td>0</td>\n    </tr>\n    <tr>\n      <th>2</th>\n      <td>02:01</td>\n      <td>0</td>\n      <td>0</td>\n      <td>0</td>\n      <td>0</td>\n      <td>0</td>\n      <td>0</td>\n      <td>0</td>\n      <td>0</td>\n      <td>0</td>\n      <td>...</td>\n      <td>0</td>\n      <td>0</td>\n      <td>0</td>\n      <td>0</td>\n      <td>0</td>\n      <td>0</td>\n      <td>0</td>\n      <td>0</td>\n      <td>0</td>\n      <td>0.012</td>\n    </tr>\n    <tr>\n      <th>3</th>\n      <td>02:02</td>\n      <td>0</td>\n      <td>0</td>\n      <td>0</td>\n      <td>0</td>\n      <td>0</td>\n      <td>0</td>\n      <td>0</td>\n      <td>0</td>\n      <td>0</td>\n      <td>...</td>\n      <td>0</td>\n      <td>0</td>\n      <td>0</td>\n      <td>0</td>\n      <td>0</td>\n      <td>0</td>\n      <td>0</td>\n      <td>0</td>\n      <td>0</td>\n      <td>0</td>\n    </tr>\n    <tr>\n      <th>4</th>\n      <td>02:03</td>\n      <td>0</td>\n      <td>0</td>\n      <td>0.014</td>\n      <td>0</td>\n      <td>0</td>\n      <td>0</td>\n      <td>0</td>\n      <td>0</td>\n      <td>0</td>\n      <td>...</td>\n      <td>0</td>\n      <td>0</td>\n      <td>0</td>\n      <td>0.017</td>\n      <td>0</td>\n      <td>0</td>\n      <td>0</td>\n      <td>0</td>\n      <td>0</td>\n      <td>0</td>\n    </tr>\n    <tr>\n      <th>5</th>\n      <td>02:04</td>\n      <td>0</td>\n      <td>0</td>\n      <td>0</td>\n      <td>0</td>\n      <td>0</td>\n      <td>0</td>\n      <td>0</td>\n      <td>0</td>\n      <td>0</td>\n      <td>...</td>\n      <td>0</td>\n      <td>0</td>\n      <td>0</td>\n      <td>0.017</td>\n      <td>0</td>\n      <td>0</td>\n      <td>0</td>\n      <td>0</td>\n      <td>0</td>\n      <td>0</td>\n    </tr>\n    <tr>\n      <th>...</th>\n      <td>...</td>\n      <td>...</td>\n      <td>...</td>\n      <td>...</td>\n      <td>...</td>\n      <td>...</td>\n      <td>...</td>\n      <td>...</td>\n      <td>...</td>\n      <td>...</td>\n      <td>...</td>\n      <td>...</td>\n      <td>...</td>\n      <td>...</td>\n      <td>...</td>\n      <td>...</td>\n      <td>...</td>\n      <td>...</td>\n      <td>...</td>\n      <td>...</td>\n      <td>...</td>\n    </tr>\n    <tr>\n      <th>1436</th>\n      <td>01:55</td>\n      <td>0</td>\n      <td>0</td>\n      <td>0</td>\n      <td>0</td>\n      <td>0</td>\n      <td>0</td>\n      <td>0</td>\n      <td>0</td>\n      <td>0.004</td>\n      <td>...</td>\n      <td>0</td>\n      <td>0.013</td>\n      <td>0</td>\n      <td>0</td>\n      <td>0</td>\n      <td>0.015</td>\n      <td>0</td>\n      <td>0</td>\n      <td>0</td>\n      <td>0</td>\n    </tr>\n    <tr>\n      <th>1437</th>\n      <td>01:56</td>\n      <td>0</td>\n      <td>0</td>\n      <td>0</td>\n      <td>0</td>\n      <td>0.027</td>\n      <td>0</td>\n      <td>0</td>\n      <td>0</td>\n      <td>0</td>\n      <td>...</td>\n      <td>0</td>\n      <td>0.013</td>\n      <td>0</td>\n      <td>0</td>\n      <td>0</td>\n      <td>0.015</td>\n      <td>0</td>\n      <td>0</td>\n      <td>0</td>\n      <td>0</td>\n    </tr>\n    <tr>\n      <th>1438</th>\n      <td>01:57</td>\n      <td>0</td>\n      <td>0</td>\n      <td>0</td>\n      <td>0</td>\n      <td>0</td>\n      <td>0</td>\n      <td>0</td>\n      <td>0</td>\n      <td>0.004</td>\n      <td>...</td>\n      <td>0</td>\n      <td>0.013</td>\n      <td>0</td>\n      <td>0</td>\n      <td>0</td>\n      <td>0.015</td>\n      <td>0</td>\n      <td>0</td>\n      <td>0</td>\n      <td>0</td>\n    </tr>\n    <tr>\n      <th>1439</th>\n      <td>01:58</td>\n      <td>0</td>\n      <td>0</td>\n      <td>0</td>\n      <td>0</td>\n      <td>0</td>\n      <td>0</td>\n      <td>0</td>\n      <td>0</td>\n      <td>0.004</td>\n      <td>...</td>\n      <td>0</td>\n      <td>0.013</td>\n      <td>0.017</td>\n      <td>0</td>\n      <td>0</td>\n      <td>0.015</td>\n      <td>0</td>\n      <td>0</td>\n      <td>0.019</td>\n      <td>0</td>\n    </tr>\n    <tr>\n      <th>1440</th>\n      <td>01:59</td>\n      <td>0</td>\n      <td>0</td>\n      <td>0</td>\n      <td>0</td>\n      <td>0</td>\n      <td>0</td>\n      <td>0</td>\n      <td>0</td>\n      <td>0.004</td>\n      <td>...</td>\n      <td>0</td>\n      <td>0.013</td>\n      <td>0</td>\n      <td>0</td>\n      <td>0</td>\n      <td>0.015</td>\n      <td>0</td>\n      <td>0</td>\n      <td>0</td>\n      <td>0</td>\n    </tr>\n  </tbody>\n</table>\n<p>1440 rows × 366 columns</p>\n</div>"
     },
     "execution_count": 53,
     "metadata": {},
     "output_type": "execute_result"
    }
   ],
   "source": [
    "# set your file_path\n",
    "import pandas as pd\n",
    "file_path = '2019rating.xlsx'\n",
    "df = pd.read_excel(file_path)\n",
    "\n",
    "col = df.iloc[0]\n",
    "x = df.iloc[1:-1, :-1]\n",
    "x.columns = col.values[:-1]\n",
    "x.to_csv('2019rating.csv')\n",
    "\n"
   ],
   "metadata": {
    "collapsed": false,
    "pycharm": {
     "name": "#%% 2019rating.xlsx > 2019rating.csv\n"
    }
   }
  }
 ],
 "metadata": {
  "kernelspec": {
   "display_name": "Python 3",
   "language": "python",
   "name": "python3"
  },
  "language_info": {
   "codemirror_mode": {
    "name": "ipython",
    "version": 2
   },
   "file_extension": ".py",
   "mimetype": "text/x-python",
   "name": "python",
   "nbconvert_exporter": "python",
   "pygments_lexer": "ipython2",
   "version": "2.7.6"
  }
 },
 "nbformat": 4,
 "nbformat_minor": 0
}
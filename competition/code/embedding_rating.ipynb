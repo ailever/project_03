{
 "cells": [
  {
   "cell_type": "code",
   "execution_count": 152,
   "metadata": {
    "collapsed": true
   },
   "outputs": [
    {
     "data": {
      "text/plain": "                     2019-01-01  2019-01-02  2019-01-03  2019-01-04  \\\n시간대                                                                   \n2020-09-19 02:00:00         0.0         0.0       0.000         0.0   \n2020-09-19 02:01:00         0.0         0.0       0.000         0.0   \n2020-09-19 02:02:00         0.0         0.0       0.000         0.0   \n2020-09-19 02:03:00         0.0         0.0       0.014         0.0   \n2020-09-19 02:04:00         0.0         0.0       0.000         0.0   \n\n                     2019-01-05  2019-01-06  2019-01-07  2019-01-08  \\\n시간대                                                                   \n2020-09-19 02:00:00         0.0         0.0         0.0         0.0   \n2020-09-19 02:01:00         0.0         0.0         0.0         0.0   \n2020-09-19 02:02:00         0.0         0.0         0.0         0.0   \n2020-09-19 02:03:00         0.0         0.0         0.0         0.0   \n2020-09-19 02:04:00         0.0         0.0         0.0         0.0   \n\n                     2019-01-09  2019-01-10  ...  2019-12-22  2019-12-23  \\\n시간대                                          ...                           \n2020-09-19 02:00:00         0.0       0.000  ...         0.0         0.0   \n2020-09-19 02:01:00         0.0       0.005  ...         0.0         0.0   \n2020-09-19 02:02:00         0.0       0.005  ...         0.0         0.0   \n2020-09-19 02:03:00         0.0       0.005  ...         0.0         0.0   \n2020-09-19 02:04:00         0.0       0.005  ...         0.0         0.0   \n\n                     2019-12-24  2019-12-25  2019-12-26  2019-12-27  \\\n시간대                                                                   \n2020-09-19 02:00:00         0.0       0.000         0.0         0.0   \n2020-09-19 02:01:00         0.0       0.000         0.0         0.0   \n2020-09-19 02:02:00         0.0       0.000         0.0         0.0   \n2020-09-19 02:03:00         0.0       0.017         0.0         0.0   \n2020-09-19 02:04:00         0.0       0.017         0.0         0.0   \n\n                     2019-12-28  2019-12-29  2019-12-30  2019-12-31  \n시간대                                                                  \n2020-09-19 02:00:00         0.0         0.0         0.0       0.000  \n2020-09-19 02:01:00         0.0         0.0         0.0       0.012  \n2020-09-19 02:02:00         0.0         0.0         0.0       0.000  \n2020-09-19 02:03:00         0.0         0.0         0.0       0.000  \n2020-09-19 02:04:00         0.0         0.0         0.0       0.000  \n\n[5 rows x 365 columns]",
      "text/html": "<div>\n<style scoped>\n    .dataframe tbody tr th:only-of-type {\n        vertical-align: middle;\n    }\n\n    .dataframe tbody tr th {\n        vertical-align: top;\n    }\n\n    .dataframe thead th {\n        text-align: right;\n    }\n</style>\n<table border=\"1\" class=\"dataframe\">\n  <thead>\n    <tr style=\"text-align: right;\">\n      <th></th>\n      <th>2019-01-01</th>\n      <th>2019-01-02</th>\n      <th>2019-01-03</th>\n      <th>2019-01-04</th>\n      <th>2019-01-05</th>\n      <th>2019-01-06</th>\n      <th>2019-01-07</th>\n      <th>2019-01-08</th>\n      <th>2019-01-09</th>\n      <th>2019-01-10</th>\n      <th>...</th>\n      <th>2019-12-22</th>\n      <th>2019-12-23</th>\n      <th>2019-12-24</th>\n      <th>2019-12-25</th>\n      <th>2019-12-26</th>\n      <th>2019-12-27</th>\n      <th>2019-12-28</th>\n      <th>2019-12-29</th>\n      <th>2019-12-30</th>\n      <th>2019-12-31</th>\n    </tr>\n    <tr>\n      <th>시간대</th>\n      <th></th>\n      <th></th>\n      <th></th>\n      <th></th>\n      <th></th>\n      <th></th>\n      <th></th>\n      <th></th>\n      <th></th>\n      <th></th>\n      <th></th>\n      <th></th>\n      <th></th>\n      <th></th>\n      <th></th>\n      <th></th>\n      <th></th>\n      <th></th>\n      <th></th>\n      <th></th>\n      <th></th>\n    </tr>\n  </thead>\n  <tbody>\n    <tr>\n      <th>2020-09-19 02:00:00</th>\n      <td>0.0</td>\n      <td>0.0</td>\n      <td>0.000</td>\n      <td>0.0</td>\n      <td>0.0</td>\n      <td>0.0</td>\n      <td>0.0</td>\n      <td>0.0</td>\n      <td>0.0</td>\n      <td>0.000</td>\n      <td>...</td>\n      <td>0.0</td>\n      <td>0.0</td>\n      <td>0.0</td>\n      <td>0.000</td>\n      <td>0.0</td>\n      <td>0.0</td>\n      <td>0.0</td>\n      <td>0.0</td>\n      <td>0.0</td>\n      <td>0.000</td>\n    </tr>\n    <tr>\n      <th>2020-09-19 02:01:00</th>\n      <td>0.0</td>\n      <td>0.0</td>\n      <td>0.000</td>\n      <td>0.0</td>\n      <td>0.0</td>\n      <td>0.0</td>\n      <td>0.0</td>\n      <td>0.0</td>\n      <td>0.0</td>\n      <td>0.005</td>\n      <td>...</td>\n      <td>0.0</td>\n      <td>0.0</td>\n      <td>0.0</td>\n      <td>0.000</td>\n      <td>0.0</td>\n      <td>0.0</td>\n      <td>0.0</td>\n      <td>0.0</td>\n      <td>0.0</td>\n      <td>0.012</td>\n    </tr>\n    <tr>\n      <th>2020-09-19 02:02:00</th>\n      <td>0.0</td>\n      <td>0.0</td>\n      <td>0.000</td>\n      <td>0.0</td>\n      <td>0.0</td>\n      <td>0.0</td>\n      <td>0.0</td>\n      <td>0.0</td>\n      <td>0.0</td>\n      <td>0.005</td>\n      <td>...</td>\n      <td>0.0</td>\n      <td>0.0</td>\n      <td>0.0</td>\n      <td>0.000</td>\n      <td>0.0</td>\n      <td>0.0</td>\n      <td>0.0</td>\n      <td>0.0</td>\n      <td>0.0</td>\n      <td>0.000</td>\n    </tr>\n    <tr>\n      <th>2020-09-19 02:03:00</th>\n      <td>0.0</td>\n      <td>0.0</td>\n      <td>0.014</td>\n      <td>0.0</td>\n      <td>0.0</td>\n      <td>0.0</td>\n      <td>0.0</td>\n      <td>0.0</td>\n      <td>0.0</td>\n      <td>0.005</td>\n      <td>...</td>\n      <td>0.0</td>\n      <td>0.0</td>\n      <td>0.0</td>\n      <td>0.017</td>\n      <td>0.0</td>\n      <td>0.0</td>\n      <td>0.0</td>\n      <td>0.0</td>\n      <td>0.0</td>\n      <td>0.000</td>\n    </tr>\n    <tr>\n      <th>2020-09-19 02:04:00</th>\n      <td>0.0</td>\n      <td>0.0</td>\n      <td>0.000</td>\n      <td>0.0</td>\n      <td>0.0</td>\n      <td>0.0</td>\n      <td>0.0</td>\n      <td>0.0</td>\n      <td>0.0</td>\n      <td>0.005</td>\n      <td>...</td>\n      <td>0.0</td>\n      <td>0.0</td>\n      <td>0.0</td>\n      <td>0.017</td>\n      <td>0.0</td>\n      <td>0.0</td>\n      <td>0.0</td>\n      <td>0.0</td>\n      <td>0.0</td>\n      <td>0.000</td>\n    </tr>\n  </tbody>\n</table>\n<p>5 rows × 365 columns</p>\n</div>"
     },
     "execution_count": 152,
     "metadata": {},
     "output_type": "execute_result"
    }
   ],
   "source": [
    "import numpy as np\n",
    "import pandas as pd\n",
    "import torch\n",
    "import torch.nn as nn\n",
    "# Reproducibility\n",
    "torch.manual_seed(123)\n",
    "\n",
    "df = pd.read_csv('2019rating.csv').drop('Unnamed: 0', axis=1)\n",
    "df['시간대'] = pd.to_datetime(df['시간대'])\n",
    "df = df.set_index('시간대')\n",
    "df.head()\n"
   ]
  },
  {
   "cell_type": "code",
   "execution_count": 153,
   "outputs": [
    {
     "data": {
      "text/plain": "                     2019-01-01  2019-01-02  2019-01-03  2019-01-04  \\\n시간대                                                                   \n2020-09-19 02:00:00    0.037226    0.037226    0.037226    0.037226   \n2020-09-19 02:01:00    0.037226    0.037226    0.037226    0.037226   \n2020-09-19 02:02:00    0.037226    0.037226    0.037226    0.037226   \n2020-09-19 02:03:00    0.037226    0.037226    0.090076    0.037226   \n2020-09-19 02:04:00    0.037226    0.037226    0.037226    0.037226   \n\n                     2019-01-05  2019-01-06  2019-01-07  2019-01-08  \\\n시간대                                                                   \n2020-09-19 02:00:00    0.037226    0.037226    0.037226    0.037226   \n2020-09-19 02:01:00    0.037226    0.037226    0.037226    0.037226   \n2020-09-19 02:02:00    0.037226    0.037226    0.037226    0.037226   \n2020-09-19 02:03:00    0.037226    0.037226    0.037226    0.037226   \n2020-09-19 02:04:00    0.037226    0.037226    0.037226    0.037226   \n\n                     2019-01-09  2019-01-10  ...  2019-12-22  2019-12-23  \\\n시간대                                          ...                           \n2020-09-19 02:00:00    0.037226    0.037226  ...    0.037226    0.037226   \n2020-09-19 02:01:00    0.037226   -0.195879  ...    0.037226    0.037226   \n2020-09-19 02:02:00    0.037226   -0.195879  ...    0.037226    0.037226   \n2020-09-19 02:03:00    0.037226   -0.195879  ...    0.037226    0.037226   \n2020-09-19 02:04:00    0.037226   -0.195879  ...    0.037226    0.037226   \n\n                     2019-12-24  2019-12-25  2019-12-26  2019-12-27  \\\n시간대                                                                   \n2020-09-19 02:00:00    0.037226    0.037226    0.037226    0.037226   \n2020-09-19 02:01:00    0.037226    0.037226    0.037226    0.037226   \n2020-09-19 02:02:00    0.037226    0.037226    0.037226    0.037226   \n2020-09-19 02:03:00    0.037226    0.072918    0.037226    0.037226   \n2020-09-19 02:04:00    0.037226    0.072918    0.037226    0.037226   \n\n                     2019-12-28  2019-12-29  2019-12-30  2019-12-31  \n시간대                                                                  \n2020-09-19 02:00:00    0.037226    0.037226    0.037226    0.037226  \n2020-09-19 02:01:00    0.037226    0.037226    0.037226   -0.138857  \n2020-09-19 02:02:00    0.037226    0.037226    0.037226    0.037226  \n2020-09-19 02:03:00    0.037226    0.037226    0.037226    0.037226  \n2020-09-19 02:04:00    0.037226    0.037226    0.037226    0.037226  \n\n[5 rows x 365 columns]",
      "text/html": "<div>\n<style scoped>\n    .dataframe tbody tr th:only-of-type {\n        vertical-align: middle;\n    }\n\n    .dataframe tbody tr th {\n        vertical-align: top;\n    }\n\n    .dataframe thead th {\n        text-align: right;\n    }\n</style>\n<table border=\"1\" class=\"dataframe\">\n  <thead>\n    <tr style=\"text-align: right;\">\n      <th></th>\n      <th>2019-01-01</th>\n      <th>2019-01-02</th>\n      <th>2019-01-03</th>\n      <th>2019-01-04</th>\n      <th>2019-01-05</th>\n      <th>2019-01-06</th>\n      <th>2019-01-07</th>\n      <th>2019-01-08</th>\n      <th>2019-01-09</th>\n      <th>2019-01-10</th>\n      <th>...</th>\n      <th>2019-12-22</th>\n      <th>2019-12-23</th>\n      <th>2019-12-24</th>\n      <th>2019-12-25</th>\n      <th>2019-12-26</th>\n      <th>2019-12-27</th>\n      <th>2019-12-28</th>\n      <th>2019-12-29</th>\n      <th>2019-12-30</th>\n      <th>2019-12-31</th>\n    </tr>\n    <tr>\n      <th>시간대</th>\n      <th></th>\n      <th></th>\n      <th></th>\n      <th></th>\n      <th></th>\n      <th></th>\n      <th></th>\n      <th></th>\n      <th></th>\n      <th></th>\n      <th></th>\n      <th></th>\n      <th></th>\n      <th></th>\n      <th></th>\n      <th></th>\n      <th></th>\n      <th></th>\n      <th></th>\n      <th></th>\n      <th></th>\n    </tr>\n  </thead>\n  <tbody>\n    <tr>\n      <th>2020-09-19 02:00:00</th>\n      <td>0.037226</td>\n      <td>0.037226</td>\n      <td>0.037226</td>\n      <td>0.037226</td>\n      <td>0.037226</td>\n      <td>0.037226</td>\n      <td>0.037226</td>\n      <td>0.037226</td>\n      <td>0.037226</td>\n      <td>0.037226</td>\n      <td>...</td>\n      <td>0.037226</td>\n      <td>0.037226</td>\n      <td>0.037226</td>\n      <td>0.037226</td>\n      <td>0.037226</td>\n      <td>0.037226</td>\n      <td>0.037226</td>\n      <td>0.037226</td>\n      <td>0.037226</td>\n      <td>0.037226</td>\n    </tr>\n    <tr>\n      <th>2020-09-19 02:01:00</th>\n      <td>0.037226</td>\n      <td>0.037226</td>\n      <td>0.037226</td>\n      <td>0.037226</td>\n      <td>0.037226</td>\n      <td>0.037226</td>\n      <td>0.037226</td>\n      <td>0.037226</td>\n      <td>0.037226</td>\n      <td>-0.195879</td>\n      <td>...</td>\n      <td>0.037226</td>\n      <td>0.037226</td>\n      <td>0.037226</td>\n      <td>0.037226</td>\n      <td>0.037226</td>\n      <td>0.037226</td>\n      <td>0.037226</td>\n      <td>0.037226</td>\n      <td>0.037226</td>\n      <td>-0.138857</td>\n    </tr>\n    <tr>\n      <th>2020-09-19 02:02:00</th>\n      <td>0.037226</td>\n      <td>0.037226</td>\n      <td>0.037226</td>\n      <td>0.037226</td>\n      <td>0.037226</td>\n      <td>0.037226</td>\n      <td>0.037226</td>\n      <td>0.037226</td>\n      <td>0.037226</td>\n      <td>-0.195879</td>\n      <td>...</td>\n      <td>0.037226</td>\n      <td>0.037226</td>\n      <td>0.037226</td>\n      <td>0.037226</td>\n      <td>0.037226</td>\n      <td>0.037226</td>\n      <td>0.037226</td>\n      <td>0.037226</td>\n      <td>0.037226</td>\n      <td>0.037226</td>\n    </tr>\n    <tr>\n      <th>2020-09-19 02:03:00</th>\n      <td>0.037226</td>\n      <td>0.037226</td>\n      <td>0.090076</td>\n      <td>0.037226</td>\n      <td>0.037226</td>\n      <td>0.037226</td>\n      <td>0.037226</td>\n      <td>0.037226</td>\n      <td>0.037226</td>\n      <td>-0.195879</td>\n      <td>...</td>\n      <td>0.037226</td>\n      <td>0.037226</td>\n      <td>0.037226</td>\n      <td>0.072918</td>\n      <td>0.037226</td>\n      <td>0.037226</td>\n      <td>0.037226</td>\n      <td>0.037226</td>\n      <td>0.037226</td>\n      <td>0.037226</td>\n    </tr>\n    <tr>\n      <th>2020-09-19 02:04:00</th>\n      <td>0.037226</td>\n      <td>0.037226</td>\n      <td>0.037226</td>\n      <td>0.037226</td>\n      <td>0.037226</td>\n      <td>0.037226</td>\n      <td>0.037226</td>\n      <td>0.037226</td>\n      <td>0.037226</td>\n      <td>-0.195879</td>\n      <td>...</td>\n      <td>0.037226</td>\n      <td>0.037226</td>\n      <td>0.037226</td>\n      <td>0.072918</td>\n      <td>0.037226</td>\n      <td>0.037226</td>\n      <td>0.037226</td>\n      <td>0.037226</td>\n      <td>0.037226</td>\n      <td>0.037226</td>\n    </tr>\n  </tbody>\n</table>\n<p>5 rows × 365 columns</p>\n</div>"
     },
     "execution_count": 153,
     "metadata": {},
     "output_type": "execute_result"
    }
   ],
   "source": [
    "# embedding dictionary\n",
    "index_to_rating = {}\n",
    "for i,j in enumerate(np.unique(df.values)):\n",
    "    index_to_rating[i] = j\n",
    "\n",
    "embedding_num = len(np.unique(df.values))\n",
    "embedding_dim = len(df[df.index.hour == 0].iloc[:,0])\n",
    "embedding = nn.Embedding(embedding_num, embedding_dim)\n",
    "\n",
    "x = df.values   # x.shape = (1440, 365)\n",
    "# rating_to_index\n",
    "for i,j in enumerate(np.unique(x)):\n",
    "    x[x == j] = i\n",
    "\n",
    "embeded_rating = embedding(torch.LongTensor(x))\n",
    "embeded_rating = embeded_rating.mean(dim=-1).detach().numpy()\n",
    "df[:] = embeded_rating\n",
    "df.to_csv('2019embeded_rating.csv')\n",
    "df.head()\n",
    "\n"
   ],
   "metadata": {
    "collapsed": false,
    "pycharm": {
     "name": "#%%\n"
    }
   }
  }
 ],
 "metadata": {
  "kernelspec": {
   "display_name": "Python 3",
   "language": "python",
   "name": "python3"
  },
  "language_info": {
   "codemirror_mode": {
    "name": "ipython",
    "version": 2
   },
   "file_extension": ".py",
   "mimetype": "text/x-python",
   "name": "python",
   "nbconvert_exporter": "python",
   "pygments_lexer": "ipython2",
   "version": "2.7.6"
  }
 },
 "nbformat": 4,
 "nbformat_minor": 0
}
{
 "cells": [
  {
   "cell_type": "code",
   "execution_count": 2,
   "metadata": {},
   "outputs": [],
   "source": [
    "import seaborn as sns\n",
    "import pandas as pd\n",
    "import matplotlib as plt\n",
    "import numpy as np\n",
    "font_name = plt.font_manager.FontProperties(fname='C:/Windows/Fonts/malgun.ttf').get_name()\n",
    "plt.rc('font', family=font_name)"
   ]
  },
  {
   "cell_type": "code",
   "execution_count": 3,
   "metadata": {},
   "outputs": [],
   "source": [
    "d1=pd.read_excel(\"C:/Users/user/Desktop/2019/2019년 1월.xlsx\")\n",
    "d2=pd.read_excel(\"C:/Users/user/Desktop/2019/2019년 2월.xlsx\")\n",
    "d3=pd.read_excel(\"C:/Users/user/Desktop/2019/2019년 3월.xlsx\")\n",
    "d4=pd.read_excel(\"C:/Users/user/Desktop/2019/2019년 4월.xlsx\")\n",
    "d5=pd.read_excel(\"C:/Users/user/Desktop/2019/2019년 5월.xlsx\")\n",
    "d6=pd.read_excel(\"C:/Users/user/Desktop/2019/2019년 6월.xlsx\")\n",
    "d7=pd.read_excel(\"C:/Users/user/Desktop/2019/2019년 7월.xlsx\")\n",
    "d8=pd.read_excel(\"C:/Users/user/Desktop/2019/2019년 8월.xlsx\")\n",
    "d9=pd.read_excel(\"C:/Users/user/Desktop/2019/2019년 9월.xlsx\")\n",
    "d10=pd.read_excel(\"C:/Users/user/Desktop/2019/2019년 10월.xlsx\")\n",
    "d11=pd.read_excel(\"C:/Users/user/Desktop/2019/2019년 11월.xlsx\")\n",
    "d12=pd.read_excel(\"C:/Users/user/Desktop/2019/2019년 12월.xlsx\")"
   ]
  },
  {
   "cell_type": "code",
   "execution_count": 4,
   "metadata": {},
   "outputs": [
    {
     "data": {
      "text/plain": [
       "'\\nPM10: 미세먼지\\nPM25: 초미세먼지\\n사용할 column: 지역,측정소코드,측정일시,PM10,PM25\\n결정해야 할 것: 모든 서울 지역? or 특정한 구만?\\n- 유동인구 데이터에 따라 결정해야 할 것 같습니다. 제가 유동인구와 미세먼지와의 상관관계를 밝히고,\\n유동인구와 시청률이 관계가 있지 않을까해서 미세먼지데이터셋을 불러온 거여서요\\n-시간: 2019010101: 매일 한시간마다/ 매일..\\n-한시간만 하게 된다면 서울시에서 측정일시에 따라 PM10/PM25를 평균을 내서 불러와야할 거 같습니다.\\n'"
      ]
     },
     "execution_count": 4,
     "metadata": {},
     "output_type": "execute_result"
    }
   ],
   "source": [
    "'''\n",
    "PM10: 미세먼지\n",
    "PM25: 초미세먼지\n",
    "사용할 column: 지역,측정소코드,측정일시,PM10,PM25\n",
    "결정해야 할 것: 모든 서울 지역? or 특정한 구만?\n",
    "- 유동인구 데이터에 따라 결정해야 할 것 같습니다. 제가 유동인구와 미세먼지와의 상관관계를 밝히고,\n",
    "유동인구와 시청률이 관계가 있지 않을까해서 미세먼지데이터셋을 불러온 거여서요\n",
    "-시간: 2019010101: 매일 한시간마다/ 매일..\n",
    "-한시간만 하게 된다면 서울시에서 측정일시에 따라 PM10/PM25를 평균을 내서 불러와야할 거 같습니다.\n",
    "'''"
   ]
  },
  {
   "cell_type": "code",
   "execution_count": 5,
   "metadata": {},
   "outputs": [],
   "source": [
    "# 서울 지역구 이름\n",
    "seoul_gu=['서울 강남구','서울 강동구','서울 강북구','서울 강서구','서울 관악구','서울 광진구','서울 구로구','서울 금천구','서울 노원구','서울 도봉구','서울 동대문구','서울 동작구',\n",
    "                        '서울 마포구','서울 서대문구','서울 서초구','서울 성동구','서울 성북구','서울 송파구','서울 양천구','서울 영등포구','서울 용산구','서울 은평구','서울 종로구','서울 중구','서울 중랑구']"
   ]
  },
  {
   "cell_type": "code",
   "execution_count": 6,
   "metadata": {},
   "outputs": [],
   "source": [
    "# 서울 지역만 데이터프레임에서 추출\n",
    "seoul1=d1[d1['지역'].isin(seoul_gu)]"
   ]
  },
  {
   "cell_type": "code",
   "execution_count": 7,
   "metadata": {},
   "outputs": [
    {
     "data": {
      "text/html": [
       "<div>\n",
       "<style scoped>\n",
       "    .dataframe tbody tr th:only-of-type {\n",
       "        vertical-align: middle;\n",
       "    }\n",
       "\n",
       "    .dataframe tbody tr th {\n",
       "        vertical-align: top;\n",
       "    }\n",
       "\n",
       "    .dataframe thead th {\n",
       "        text-align: right;\n",
       "    }\n",
       "</style>\n",
       "<table border=\"1\" class=\"dataframe\">\n",
       "  <thead>\n",
       "    <tr style=\"text-align: right;\">\n",
       "      <th></th>\n",
       "      <th>지역</th>\n",
       "      <th>망</th>\n",
       "      <th>측정소코드</th>\n",
       "      <th>측정소명</th>\n",
       "      <th>측정일시</th>\n",
       "      <th>SO2</th>\n",
       "      <th>CO</th>\n",
       "      <th>O3</th>\n",
       "      <th>NO2</th>\n",
       "      <th>PM10</th>\n",
       "      <th>PM25</th>\n",
       "      <th>주소</th>\n",
       "    </tr>\n",
       "  </thead>\n",
       "  <tbody>\n",
       "    <tr>\n",
       "      <th>0</th>\n",
       "      <td>서울 중구</td>\n",
       "      <td>도시대기</td>\n",
       "      <td>111121</td>\n",
       "      <td>중구</td>\n",
       "      <td>2019010101</td>\n",
       "      <td>0.003</td>\n",
       "      <td>0.7</td>\n",
       "      <td>0.003</td>\n",
       "      <td>0.054</td>\n",
       "      <td>39.0</td>\n",
       "      <td>24.0</td>\n",
       "      <td>서울 중구 덕수궁길 15</td>\n",
       "    </tr>\n",
       "    <tr>\n",
       "      <th>1</th>\n",
       "      <td>서울 중구</td>\n",
       "      <td>도시대기</td>\n",
       "      <td>111121</td>\n",
       "      <td>중구</td>\n",
       "      <td>2019010102</td>\n",
       "      <td>0.003</td>\n",
       "      <td>0.8</td>\n",
       "      <td>0.002</td>\n",
       "      <td>0.056</td>\n",
       "      <td>38.0</td>\n",
       "      <td>27.0</td>\n",
       "      <td>서울 중구 덕수궁길 15</td>\n",
       "    </tr>\n",
       "    <tr>\n",
       "      <th>2</th>\n",
       "      <td>서울 중구</td>\n",
       "      <td>도시대기</td>\n",
       "      <td>111121</td>\n",
       "      <td>중구</td>\n",
       "      <td>2019010103</td>\n",
       "      <td>0.003</td>\n",
       "      <td>0.9</td>\n",
       "      <td>0.002</td>\n",
       "      <td>0.057</td>\n",
       "      <td>42.0</td>\n",
       "      <td>28.0</td>\n",
       "      <td>서울 중구 덕수궁길 15</td>\n",
       "    </tr>\n",
       "    <tr>\n",
       "      <th>3</th>\n",
       "      <td>서울 중구</td>\n",
       "      <td>도시대기</td>\n",
       "      <td>111121</td>\n",
       "      <td>중구</td>\n",
       "      <td>2019010104</td>\n",
       "      <td>0.003</td>\n",
       "      <td>0.8</td>\n",
       "      <td>0.002</td>\n",
       "      <td>0.054</td>\n",
       "      <td>42.0</td>\n",
       "      <td>31.0</td>\n",
       "      <td>서울 중구 덕수궁길 15</td>\n",
       "    </tr>\n",
       "    <tr>\n",
       "      <th>4</th>\n",
       "      <td>서울 중구</td>\n",
       "      <td>도시대기</td>\n",
       "      <td>111121</td>\n",
       "      <td>중구</td>\n",
       "      <td>2019010105</td>\n",
       "      <td>0.003</td>\n",
       "      <td>0.8</td>\n",
       "      <td>0.002</td>\n",
       "      <td>0.048</td>\n",
       "      <td>49.0</td>\n",
       "      <td>33.0</td>\n",
       "      <td>서울 중구 덕수궁길 15</td>\n",
       "    </tr>\n",
       "    <tr>\n",
       "      <th>...</th>\n",
       "      <td>...</td>\n",
       "      <td>...</td>\n",
       "      <td>...</td>\n",
       "      <td>...</td>\n",
       "      <td>...</td>\n",
       "      <td>...</td>\n",
       "      <td>...</td>\n",
       "      <td>...</td>\n",
       "      <td>...</td>\n",
       "      <td>...</td>\n",
       "      <td>...</td>\n",
       "      <td>...</td>\n",
       "    </tr>\n",
       "    <tr>\n",
       "      <th>29755</th>\n",
       "      <td>서울 노원구</td>\n",
       "      <td>도로변대기</td>\n",
       "      <td>111312</td>\n",
       "      <td>화랑로</td>\n",
       "      <td>2019013120</td>\n",
       "      <td>0.005</td>\n",
       "      <td>0.5</td>\n",
       "      <td>0.010</td>\n",
       "      <td>0.035</td>\n",
       "      <td>69.0</td>\n",
       "      <td>17.0</td>\n",
       "      <td>서울 노원구 화랑로 429</td>\n",
       "    </tr>\n",
       "    <tr>\n",
       "      <th>29756</th>\n",
       "      <td>서울 노원구</td>\n",
       "      <td>도로변대기</td>\n",
       "      <td>111312</td>\n",
       "      <td>화랑로</td>\n",
       "      <td>2019013121</td>\n",
       "      <td>0.005</td>\n",
       "      <td>0.5</td>\n",
       "      <td>0.014</td>\n",
       "      <td>0.028</td>\n",
       "      <td>76.0</td>\n",
       "      <td>18.0</td>\n",
       "      <td>서울 노원구 화랑로 429</td>\n",
       "    </tr>\n",
       "    <tr>\n",
       "      <th>29757</th>\n",
       "      <td>서울 노원구</td>\n",
       "      <td>도로변대기</td>\n",
       "      <td>111312</td>\n",
       "      <td>화랑로</td>\n",
       "      <td>2019013122</td>\n",
       "      <td>0.004</td>\n",
       "      <td>0.4</td>\n",
       "      <td>0.015</td>\n",
       "      <td>0.028</td>\n",
       "      <td>63.0</td>\n",
       "      <td>14.0</td>\n",
       "      <td>서울 노원구 화랑로 429</td>\n",
       "    </tr>\n",
       "    <tr>\n",
       "      <th>29758</th>\n",
       "      <td>서울 노원구</td>\n",
       "      <td>도로변대기</td>\n",
       "      <td>111312</td>\n",
       "      <td>화랑로</td>\n",
       "      <td>2019013123</td>\n",
       "      <td>0.004</td>\n",
       "      <td>0.4</td>\n",
       "      <td>0.016</td>\n",
       "      <td>0.024</td>\n",
       "      <td>48.0</td>\n",
       "      <td>11.0</td>\n",
       "      <td>서울 노원구 화랑로 429</td>\n",
       "    </tr>\n",
       "    <tr>\n",
       "      <th>29759</th>\n",
       "      <td>서울 노원구</td>\n",
       "      <td>도로변대기</td>\n",
       "      <td>111312</td>\n",
       "      <td>화랑로</td>\n",
       "      <td>2019013124</td>\n",
       "      <td>0.004</td>\n",
       "      <td>0.4</td>\n",
       "      <td>0.018</td>\n",
       "      <td>0.024</td>\n",
       "      <td>47.0</td>\n",
       "      <td>10.0</td>\n",
       "      <td>서울 노원구 화랑로 429</td>\n",
       "    </tr>\n",
       "  </tbody>\n",
       "</table>\n",
       "<p>29760 rows × 12 columns</p>\n",
       "</div>"
      ],
      "text/plain": [
       "           지역      망   측정소코드 측정소명        측정일시    SO2   CO     O3    NO2  PM10  \\\n",
       "0       서울 중구   도시대기  111121   중구  2019010101  0.003  0.7  0.003  0.054  39.0   \n",
       "1       서울 중구   도시대기  111121   중구  2019010102  0.003  0.8  0.002  0.056  38.0   \n",
       "2       서울 중구   도시대기  111121   중구  2019010103  0.003  0.9  0.002  0.057  42.0   \n",
       "3       서울 중구   도시대기  111121   중구  2019010104  0.003  0.8  0.002  0.054  42.0   \n",
       "4       서울 중구   도시대기  111121   중구  2019010105  0.003  0.8  0.002  0.048  49.0   \n",
       "...       ...    ...     ...  ...         ...    ...  ...    ...    ...   ...   \n",
       "29755  서울 노원구  도로변대기  111312  화랑로  2019013120  0.005  0.5  0.010  0.035  69.0   \n",
       "29756  서울 노원구  도로변대기  111312  화랑로  2019013121  0.005  0.5  0.014  0.028  76.0   \n",
       "29757  서울 노원구  도로변대기  111312  화랑로  2019013122  0.004  0.4  0.015  0.028  63.0   \n",
       "29758  서울 노원구  도로변대기  111312  화랑로  2019013123  0.004  0.4  0.016  0.024  48.0   \n",
       "29759  서울 노원구  도로변대기  111312  화랑로  2019013124  0.004  0.4  0.018  0.024  47.0   \n",
       "\n",
       "       PM25              주소  \n",
       "0      24.0   서울 중구 덕수궁길 15  \n",
       "1      27.0   서울 중구 덕수궁길 15  \n",
       "2      28.0   서울 중구 덕수궁길 15  \n",
       "3      31.0   서울 중구 덕수궁길 15  \n",
       "4      33.0   서울 중구 덕수궁길 15  \n",
       "...     ...             ...  \n",
       "29755  17.0  서울 노원구 화랑로 429  \n",
       "29756  18.0  서울 노원구 화랑로 429  \n",
       "29757  14.0  서울 노원구 화랑로 429  \n",
       "29758  11.0  서울 노원구 화랑로 429  \n",
       "29759  10.0  서울 노원구 화랑로 429  \n",
       "\n",
       "[29760 rows x 12 columns]"
      ]
     },
     "execution_count": 7,
     "metadata": {},
     "output_type": "execute_result"
    }
   ],
   "source": [
    "seoul1"
   ]
  },
  {
   "cell_type": "code",
   "execution_count": 8,
   "metadata": {},
   "outputs": [
    {
     "name": "stderr",
     "output_type": "stream",
     "text": [
      "C:\\Users\\user\\anaconda3\\lib\\site-packages\\ipykernel_launcher.py:2: FutureWarning: Indexing with multiple keys (implicitly converted to a tuple of keys) will be deprecated, use a list instead.\n",
      "  \n"
     ]
    }
   ],
   "source": [
    "#측정일시에 따른 PM10,과 PM25의 평균을 내서 데이터 프레임 새로 만듦 (1월~12월)\n",
    "bytime1=seoul1.groupby(['측정일시'],as_index=False )['PM10','PM25'].mean()"
   ]
  },
  {
   "cell_type": "code",
   "execution_count": 9,
   "metadata": {},
   "outputs": [
    {
     "data": {
      "text/html": [
       "<div>\n",
       "<style scoped>\n",
       "    .dataframe tbody tr th:only-of-type {\n",
       "        vertical-align: middle;\n",
       "    }\n",
       "\n",
       "    .dataframe tbody tr th {\n",
       "        vertical-align: top;\n",
       "    }\n",
       "\n",
       "    .dataframe thead th {\n",
       "        text-align: right;\n",
       "    }\n",
       "</style>\n",
       "<table border=\"1\" class=\"dataframe\">\n",
       "  <thead>\n",
       "    <tr style=\"text-align: right;\">\n",
       "      <th></th>\n",
       "      <th>측정일시</th>\n",
       "      <th>PM10</th>\n",
       "      <th>PM25</th>\n",
       "    </tr>\n",
       "  </thead>\n",
       "  <tbody>\n",
       "    <tr>\n",
       "      <th>0</th>\n",
       "      <td>2019010101</td>\n",
       "      <td>41.600000</td>\n",
       "      <td>25.975000</td>\n",
       "    </tr>\n",
       "    <tr>\n",
       "      <th>1</th>\n",
       "      <td>2019010102</td>\n",
       "      <td>42.175000</td>\n",
       "      <td>27.200000</td>\n",
       "    </tr>\n",
       "    <tr>\n",
       "      <th>2</th>\n",
       "      <td>2019010103</td>\n",
       "      <td>43.250000</td>\n",
       "      <td>28.425000</td>\n",
       "    </tr>\n",
       "    <tr>\n",
       "      <th>3</th>\n",
       "      <td>2019010104</td>\n",
       "      <td>41.200000</td>\n",
       "      <td>28.000000</td>\n",
       "    </tr>\n",
       "    <tr>\n",
       "      <th>4</th>\n",
       "      <td>2019010105</td>\n",
       "      <td>43.000000</td>\n",
       "      <td>28.975000</td>\n",
       "    </tr>\n",
       "    <tr>\n",
       "      <th>...</th>\n",
       "      <td>...</td>\n",
       "      <td>...</td>\n",
       "      <td>...</td>\n",
       "    </tr>\n",
       "    <tr>\n",
       "      <th>739</th>\n",
       "      <td>2019013120</td>\n",
       "      <td>79.100000</td>\n",
       "      <td>16.600000</td>\n",
       "    </tr>\n",
       "    <tr>\n",
       "      <th>740</th>\n",
       "      <td>2019013121</td>\n",
       "      <td>71.950000</td>\n",
       "      <td>15.974359</td>\n",
       "    </tr>\n",
       "    <tr>\n",
       "      <th>741</th>\n",
       "      <td>2019013122</td>\n",
       "      <td>64.025000</td>\n",
       "      <td>13.625000</td>\n",
       "    </tr>\n",
       "    <tr>\n",
       "      <th>742</th>\n",
       "      <td>2019013123</td>\n",
       "      <td>53.925000</td>\n",
       "      <td>12.175000</td>\n",
       "    </tr>\n",
       "    <tr>\n",
       "      <th>743</th>\n",
       "      <td>2019013124</td>\n",
       "      <td>44.307692</td>\n",
       "      <td>10.743590</td>\n",
       "    </tr>\n",
       "  </tbody>\n",
       "</table>\n",
       "<p>744 rows × 3 columns</p>\n",
       "</div>"
      ],
      "text/plain": [
       "           측정일시       PM10       PM25\n",
       "0    2019010101  41.600000  25.975000\n",
       "1    2019010102  42.175000  27.200000\n",
       "2    2019010103  43.250000  28.425000\n",
       "3    2019010104  41.200000  28.000000\n",
       "4    2019010105  43.000000  28.975000\n",
       "..          ...        ...        ...\n",
       "739  2019013120  79.100000  16.600000\n",
       "740  2019013121  71.950000  15.974359\n",
       "741  2019013122  64.025000  13.625000\n",
       "742  2019013123  53.925000  12.175000\n",
       "743  2019013124  44.307692  10.743590\n",
       "\n",
       "[744 rows x 3 columns]"
      ]
     },
     "execution_count": 9,
     "metadata": {},
     "output_type": "execute_result"
    }
   ],
   "source": [
    "bytime1"
   ]
  },
  {
   "cell_type": "code",
   "execution_count": 10,
   "metadata": {},
   "outputs": [
    {
     "data": {
      "text/plain": [
       "0      2019010101\n",
       "1      2019010102\n",
       "2      2019010103\n",
       "3      2019010104\n",
       "4      2019010105\n",
       "          ...    \n",
       "739    2019013120\n",
       "740    2019013121\n",
       "741    2019013122\n",
       "742    2019013123\n",
       "743    2019013124\n",
       "Name: 측정일시, Length: 744, dtype: int64"
      ]
     },
     "execution_count": 10,
     "metadata": {},
     "output_type": "execute_result"
    }
   ],
   "source": [
    "bytime1['측정일시']"
   ]
  },
  {
   "cell_type": "code",
   "execution_count": 11,
   "metadata": {},
   "outputs": [
    {
     "name": "stderr",
     "output_type": "stream",
     "text": [
      "C:\\Users\\user\\anaconda3\\lib\\site-packages\\ipykernel_launcher.py:3: FutureWarning: Indexing with multiple keys (implicitly converted to a tuple of keys) will be deprecated, use a list instead.\n",
      "  This is separate from the ipykernel package so we can avoid doing imports until\n",
      "C:\\Users\\user\\anaconda3\\lib\\site-packages\\ipykernel_launcher.py:5: FutureWarning: Indexing with multiple keys (implicitly converted to a tuple of keys) will be deprecated, use a list instead.\n",
      "  \"\"\"\n",
      "C:\\Users\\user\\anaconda3\\lib\\site-packages\\ipykernel_launcher.py:7: FutureWarning: Indexing with multiple keys (implicitly converted to a tuple of keys) will be deprecated, use a list instead.\n",
      "  import sys\n",
      "C:\\Users\\user\\anaconda3\\lib\\site-packages\\ipykernel_launcher.py:9: FutureWarning: Indexing with multiple keys (implicitly converted to a tuple of keys) will be deprecated, use a list instead.\n",
      "  if __name__ == '__main__':\n",
      "C:\\Users\\user\\anaconda3\\lib\\site-packages\\ipykernel_launcher.py:11: FutureWarning: Indexing with multiple keys (implicitly converted to a tuple of keys) will be deprecated, use a list instead.\n",
      "  # This is added back by InteractiveShellApp.init_path()\n",
      "C:\\Users\\user\\anaconda3\\lib\\site-packages\\ipykernel_launcher.py:13: FutureWarning: Indexing with multiple keys (implicitly converted to a tuple of keys) will be deprecated, use a list instead.\n",
      "  del sys.path[0]\n",
      "C:\\Users\\user\\anaconda3\\lib\\site-packages\\ipykernel_launcher.py:15: FutureWarning: Indexing with multiple keys (implicitly converted to a tuple of keys) will be deprecated, use a list instead.\n",
      "  from ipykernel import kernelapp as app\n",
      "C:\\Users\\user\\anaconda3\\lib\\site-packages\\ipykernel_launcher.py:17: FutureWarning: Indexing with multiple keys (implicitly converted to a tuple of keys) will be deprecated, use a list instead.\n",
      "C:\\Users\\user\\anaconda3\\lib\\site-packages\\ipykernel_launcher.py:19: FutureWarning: Indexing with multiple keys (implicitly converted to a tuple of keys) will be deprecated, use a list instead.\n",
      "C:\\Users\\user\\anaconda3\\lib\\site-packages\\ipykernel_launcher.py:21: FutureWarning: Indexing with multiple keys (implicitly converted to a tuple of keys) will be deprecated, use a list instead.\n",
      "C:\\Users\\user\\anaconda3\\lib\\site-packages\\ipykernel_launcher.py:23: FutureWarning: Indexing with multiple keys (implicitly converted to a tuple of keys) will be deprecated, use a list instead.\n"
     ]
    }
   ],
   "source": [
    "# 서울 지역만 분리\n",
    "seoul2=d2[d2['지역'].isin(seoul_gu)]\n",
    "bytime2=seoul2.groupby(['측정일시'],as_index=False )['PM10','PM25'].mean()\n",
    "seoul3=d3[d3['지역'].isin(seoul_gu)]\n",
    "bytime3=seoul3.groupby(['측정일시'],as_index=False )['PM10','PM25'].mean()\n",
    "seoul4=d4[d4['지역'].isin(seoul_gu)]\n",
    "bytime4=seoul4.groupby(['측정일시'],as_index=False )['PM10','PM25'].mean()\n",
    "seoul5=d5[d5['지역'].isin(seoul_gu)]\n",
    "bytime5=seoul5.groupby(['측정일시'],as_index=False )['PM10','PM25'].mean()\n",
    "seoul6=d6[d6['지역'].isin(seoul_gu)]\n",
    "bytime6=seoul6.groupby(['측정일시'],as_index=False )['PM10','PM25'].mean()\n",
    "seoul7=d7[d7['지역'].isin(seoul_gu)]\n",
    "bytime7=seoul7.groupby(['측정일시'],as_index=False )['PM10','PM25'].mean()\n",
    "seoul8=d8[d8['지역'].isin(seoul_gu)]\n",
    "bytime8=seoul8.groupby(['측정일시'],as_index=False )['PM10','PM25'].mean()\n",
    "seoul9=d9[d9['지역'].isin(seoul_gu)]\n",
    "bytime9=seoul9.groupby(['측정일시'],as_index=False )['PM10','PM25'].mean()\n",
    "seoul10=d10[d10['지역'].isin(seoul_gu)]\n",
    "bytime10=seoul10.groupby(['측정일시'],as_index=False )['PM10','PM25'].mean()\n",
    "seoul11=d11[d11['지역'].isin(seoul_gu)]\n",
    "bytime11=seoul11.groupby(['측정일시'],as_index=False )['PM10','PM25'].mean()\n",
    "seoul12=d12[d12['지역'].isin(seoul_gu)]\n",
    "bytime12=seoul12.groupby(['측정일시'],as_index=False )['PM10','PM25'].mean()"
   ]
  },
  {
   "cell_type": "code",
   "execution_count": 12,
   "metadata": {},
   "outputs": [
    {
     "data": {
      "text/plain": [
       "<matplotlib.axes._subplots.AxesSubplot at 0x19e8e9d4c08>"
      ]
     },
     "execution_count": 12,
     "metadata": {},
     "output_type": "execute_result"
    },
    {
     "data": {
      "image/png": "[encoded data removed]",
      "text/plain": [
       "<Figure size 432x288 with 1 Axes>"
      ]
     },
     "metadata": {
      "needs_background": "light"
     },
     "output_type": "display_data"
    }
   ],
   "source": [
    "#월별 미세먼지 lineplot\n",
    "sns.lineplot(data=bytime1, x=\"측정일시\", y=\"PM10\")\n",
    "#월별 초미세먼지 lineplot\n"
   ]
  },
  {
   "cell_type": "code",
   "execution_count": 13,
   "metadata": {},
   "outputs": [
    {
     "data": {
      "text/plain": [
       "<matplotlib.axes._subplots.AxesSubplot at 0x19e97fd9888>"
      ]
     },
     "execution_count": 13,
     "metadata": {},
     "output_type": "execute_result"
    },
    {
     "data": {
      "image/png": "[encoded data removed]",
      "text/plain": [
       "<Figure size 432x288 with 1 Axes>"
      ]
     },
     "metadata": {
      "needs_background": "light"
     },
     "output_type": "display_data"
    }
   ],
   "source": [
    "sns.barplot(data=bytime1,x=\"측정일시\", y=\"PM10\")\n"
   ]
  },
  {
   "cell_type": "code",
   "execution_count": 14,
   "metadata": {},
   "outputs": [
    {
     "data": {
      "text/html": [
       "<div>\n",
       "<style scoped>\n",
       "    .dataframe tbody tr th:only-of-type {\n",
       "        vertical-align: middle;\n",
       "    }\n",
       "\n",
       "    .dataframe tbody tr th {\n",
       "        vertical-align: top;\n",
       "    }\n",
       "\n",
       "    .dataframe thead th {\n",
       "        text-align: right;\n",
       "    }\n",
       "</style>\n",
       "<table border=\"1\" class=\"dataframe\">\n",
       "  <thead>\n",
       "    <tr style=\"text-align: right;\">\n",
       "      <th></th>\n",
       "      <th>측정일시</th>\n",
       "      <th>PM10</th>\n",
       "      <th>PM25</th>\n",
       "    </tr>\n",
       "  </thead>\n",
       "  <tbody>\n",
       "    <tr>\n",
       "      <th>0</th>\n",
       "      <td>2019010101</td>\n",
       "      <td>41.600000</td>\n",
       "      <td>25.975000</td>\n",
       "    </tr>\n",
       "    <tr>\n",
       "      <th>1</th>\n",
       "      <td>2019010102</td>\n",
       "      <td>42.175000</td>\n",
       "      <td>27.200000</td>\n",
       "    </tr>\n",
       "    <tr>\n",
       "      <th>2</th>\n",
       "      <td>2019010103</td>\n",
       "      <td>43.250000</td>\n",
       "      <td>28.425000</td>\n",
       "    </tr>\n",
       "    <tr>\n",
       "      <th>3</th>\n",
       "      <td>2019010104</td>\n",
       "      <td>41.200000</td>\n",
       "      <td>28.000000</td>\n",
       "    </tr>\n",
       "    <tr>\n",
       "      <th>4</th>\n",
       "      <td>2019010105</td>\n",
       "      <td>43.000000</td>\n",
       "      <td>28.975000</td>\n",
       "    </tr>\n",
       "    <tr>\n",
       "      <th>...</th>\n",
       "      <td>...</td>\n",
       "      <td>...</td>\n",
       "      <td>...</td>\n",
       "    </tr>\n",
       "    <tr>\n",
       "      <th>739</th>\n",
       "      <td>2019123120</td>\n",
       "      <td>25.525000</td>\n",
       "      <td>14.600000</td>\n",
       "    </tr>\n",
       "    <tr>\n",
       "      <th>740</th>\n",
       "      <td>2019123121</td>\n",
       "      <td>26.275000</td>\n",
       "      <td>15.850000</td>\n",
       "    </tr>\n",
       "    <tr>\n",
       "      <th>741</th>\n",
       "      <td>2019123122</td>\n",
       "      <td>24.200000</td>\n",
       "      <td>14.375000</td>\n",
       "    </tr>\n",
       "    <tr>\n",
       "      <th>742</th>\n",
       "      <td>2019123123</td>\n",
       "      <td>24.625000</td>\n",
       "      <td>15.342105</td>\n",
       "    </tr>\n",
       "    <tr>\n",
       "      <th>743</th>\n",
       "      <td>2019123124</td>\n",
       "      <td>23.641026</td>\n",
       "      <td>14.800000</td>\n",
       "    </tr>\n",
       "  </tbody>\n",
       "</table>\n",
       "<p>8760 rows × 3 columns</p>\n",
       "</div>"
      ],
      "text/plain": [
       "           측정일시       PM10       PM25\n",
       "0    2019010101  41.600000  25.975000\n",
       "1    2019010102  42.175000  27.200000\n",
       "2    2019010103  43.250000  28.425000\n",
       "3    2019010104  41.200000  28.000000\n",
       "4    2019010105  43.000000  28.975000\n",
       "..          ...        ...        ...\n",
       "739  2019123120  25.525000  14.600000\n",
       "740  2019123121  26.275000  15.850000\n",
       "741  2019123122  24.200000  14.375000\n",
       "742  2019123123  24.625000  15.342105\n",
       "743  2019123124  23.641026  14.800000\n",
       "\n",
       "[8760 rows x 3 columns]"
      ]
     },
     "execution_count": 14,
     "metadata": {},
     "output_type": "execute_result"
    }
   ],
   "source": [
    "#1월~12월 데이터 합치기\n",
    "frames=[bytime1,bytime2,bytime3,bytime4,bytime5,bytime6,bytime7,bytime8,bytime9,bytime10,bytime11,bytime12]\n",
    "seoul=pd.concat(frames)\n",
    "seoul"
   ]
  },
  {
   "cell_type": "code",
   "execution_count": null,
   "metadata": {},
   "outputs": [],
   "source": [
    "# 측정일시를 시간으로 바꾸기\n",
    "# 요일별/시간별로 나누기"
   ]
  },
  {
   "cell_type": "code",
   "execution_count": 15,
   "metadata": {},
   "outputs": [],
   "source": [
    "mean1=bytime1['PM10'].mean()\n",
    "mean2=bytime2['PM10'].mean()\n",
    "mean3=bytime3['PM10'].mean()\n",
    "mean4=bytime4['PM10'].mean()\n",
    "mean5=bytime5['PM10'].mean()\n",
    "mean6=bytime6['PM10'].mean()\n",
    "mean7=bytime7['PM10'].mean()\n",
    "mean8=bytime8['PM10'].mean()\n",
    "mean9=bytime9['PM10'].mean()\n",
    "mean10=bytime10['PM10'].mean()\n",
    "mean11=bytime11['PM10'].mean()\n",
    "mean12=bytime12['PM10'].mean()\n",
    "mean=pd.DataFrame(data={'월':[1,2,3,4,5,6,7,8,9,10,11,12],'미세먼지 월평균':[mean1,mean2,mean3,mean4,mean5,mean6,mean7,mean8,mean9,mean10,mean11,mean12]})"
   ]
  },
  {
   "cell_type": "code",
   "execution_count": 16,
   "metadata": {},
   "outputs": [
    {
     "data": {
      "text/plain": [
       "<matplotlib.axes._subplots.AxesSubplot at 0x19e95f299c8>"
      ]
     },
     "execution_count": 16,
     "metadata": {},
     "output_type": "execute_result"
    },
    {
     "data": {
      "image/png": "[encoded data removed]",
      "text/plain": [
       "<Figure size 432x288 with 1 Axes>"
      ]
     },
     "metadata": {
      "needs_background": "light"
     },
     "output_type": "display_data"
    }
   ],
   "source": [
    "\n",
    "sns.lineplot(data=seoul, x=\"측정일시\", y=\"PM10\")"
   ]
  },
  {
   "cell_type": "code",
   "execution_count": 17,
   "metadata": {},
   "outputs": [
    {
     "data": {
      "text/html": [
       "<div>\n",
       "<style scoped>\n",
       "    .dataframe tbody tr th:only-of-type {\n",
       "        vertical-align: middle;\n",
       "    }\n",
       "\n",
       "    .dataframe tbody tr th {\n",
       "        vertical-align: top;\n",
       "    }\n",
       "\n",
       "    .dataframe thead th {\n",
       "        text-align: right;\n",
       "    }\n",
       "</style>\n",
       "<table border=\"1\" class=\"dataframe\">\n",
       "  <thead>\n",
       "    <tr style=\"text-align: right;\">\n",
       "      <th></th>\n",
       "      <th>월</th>\n",
       "      <th>미세먼지 월평균</th>\n",
       "    </tr>\n",
       "  </thead>\n",
       "  <tbody>\n",
       "    <tr>\n",
       "      <th>0</th>\n",
       "      <td>1</td>\n",
       "      <td>65.536413</td>\n",
       "    </tr>\n",
       "    <tr>\n",
       "      <th>1</th>\n",
       "      <td>2</td>\n",
       "      <td>57.599430</td>\n",
       "    </tr>\n",
       "    <tr>\n",
       "      <th>2</th>\n",
       "      <td>3</td>\n",
       "      <td>70.233206</td>\n",
       "    </tr>\n",
       "    <tr>\n",
       "      <th>3</th>\n",
       "      <td>4</td>\n",
       "      <td>42.799155</td>\n",
       "    </tr>\n",
       "    <tr>\n",
       "      <th>4</th>\n",
       "      <td>5</td>\n",
       "      <td>54.591153</td>\n",
       "    </tr>\n",
       "    <tr>\n",
       "      <th>5</th>\n",
       "      <td>6</td>\n",
       "      <td>30.188220</td>\n",
       "    </tr>\n",
       "    <tr>\n",
       "      <th>6</th>\n",
       "      <td>7</td>\n",
       "      <td>27.373041</td>\n",
       "    </tr>\n",
       "    <tr>\n",
       "      <th>7</th>\n",
       "      <td>8</td>\n",
       "      <td>25.743960</td>\n",
       "    </tr>\n",
       "    <tr>\n",
       "      <th>8</th>\n",
       "      <td>9</td>\n",
       "      <td>22.436080</td>\n",
       "    </tr>\n",
       "    <tr>\n",
       "      <th>9</th>\n",
       "      <td>10</td>\n",
       "      <td>31.694491</td>\n",
       "    </tr>\n",
       "    <tr>\n",
       "      <th>10</th>\n",
       "      <td>11</td>\n",
       "      <td>40.904930</td>\n",
       "    </tr>\n",
       "    <tr>\n",
       "      <th>11</th>\n",
       "      <td>12</td>\n",
       "      <td>43.000604</td>\n",
       "    </tr>\n",
       "  </tbody>\n",
       "</table>\n",
       "</div>"
      ],
      "text/plain": [
       "     월   미세먼지 월평균\n",
       "0    1  65.536413\n",
       "1    2  57.599430\n",
       "2    3  70.233206\n",
       "3    4  42.799155\n",
       "4    5  54.591153\n",
       "5    6  30.188220\n",
       "6    7  27.373041\n",
       "7    8  25.743960\n",
       "8    9  22.436080\n",
       "9   10  31.694491\n",
       "10  11  40.904930\n",
       "11  12  43.000604"
      ]
     },
     "execution_count": 17,
     "metadata": {},
     "output_type": "execute_result"
    }
   ],
   "source": [
    "mean"
   ]
  },
  {
   "cell_type": "code",
   "execution_count": 18,
   "metadata": {},
   "outputs": [
    {
     "data": {
      "text/plain": [
       "<matplotlib.axes._subplots.AxesSubplot at 0x19e97732088>"
      ]
     },
     "execution_count": 18,
     "metadata": {},
     "output_type": "execute_result"
    },
    {
     "data": {
      "image/png": "[encoded data removed]",
      "text/plain": [
       "<Figure size 432x288 with 1 Axes>"
      ]
     },
     "metadata": {
      "needs_background": "light"
     },
     "output_type": "display_data"
    }
   ],
   "source": [
    "sns.barplot(data=mean, x=\"월\", y=\"미세먼지 월평균\")\n",
    "\n"
   ]
  }
 ],
 "metadata": {
  "kernelspec": {
   "display_name": "Python 3",
   "language": "python",
   "name": "python3"
  },
  "language_info": {
   "codemirror_mode": {
    "name": "ipython",
    "version": 3
   },
   "file_extension": ".py",
   "mimetype": "text/x-python",
   "name": "python",
   "nbconvert_exporter": "python",
   "pygments_lexer": "ipython3",
   "version": "3.7.6"
  }
 },
 "nbformat": 4,
 "nbformat_minor": 4
}
